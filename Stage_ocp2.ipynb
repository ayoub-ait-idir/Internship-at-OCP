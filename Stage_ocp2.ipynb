{
  "nbformat": 4,
  "nbformat_minor": 0,
  "metadata": {
    "colab": {
      "name": "Stage_ocp2.ipynb",
      "provenance": [],
      "collapsed_sections": [
        "zmmAAtQAII01",
        "2efwpo1dLPtk",
        "H9-IQ7wCPIAX",
        "YfY2b_Amz-TA",
        "0MG1mr2SDtrR",
        "2TSC5rRJx3v7",
        "SpgUnz69weU9",
        "g5FxVJnG4Vt8",
        "6mD_YIyWwWU0",
        "NNuUar4sXFfl",
        "ZeYVn2lhCBCr",
        "WV-uEaCux3nF",
        "kpgi5aWhyvmb",
        "QlArpOY5QCPf",
        "hulSqKtgGpQM",
        "OeZd0VO-TQ2u"
      ],
      "mount_file_id": "17ZXJEiGaUA_xzpjhO6xkzJK9lRVru8zO",
      "authorship_tag": "ABX9TyNTF5TV6sBpcYiKAex0+XiY",
      "include_colab_link": true
    },
    "kernelspec": {
      "display_name": "Python 3",
      "name": "python3"
    },
    "language_info": {
      "name": "python"
    }
  },
  "cells": [
    {
      "cell_type": "markdown",
      "metadata": {
        "id": "view-in-github",
        "colab_type": "text"
      },
      "source": [
        "<a href=\"https://colab.research.google.com/github/ayoub-ait-idir/Internship-at-OCP/blob/main/Stage_ocp2.ipynb\" target=\"_parent\"><img src=\"https://colab.research.google.com/assets/colab-badge.svg\" alt=\"Open In Colab\"/></a>"
      ]
    },
    {
      "cell_type": "markdown",
      "metadata": {
        "id": "zmmAAtQAII01"
      },
      "source": [
        "# Importer les Packages"
      ]
    },
    {
      "cell_type": "code",
      "metadata": {
        "id": "rKXrwHze4dV-"
      },
      "source": [
        "# Import packages\n",
        "import pandas as pd\n",
        "import numpy as np\n",
        "import seaborn as sns\n",
        "import matplotlib.pyplot as plt\n",
        "import scipy.stats as stats\n",
        "from scipy.stats import pearsonr"
      ],
      "execution_count": null,
      "outputs": []
    },
    {
      "cell_type": "markdown",
      "metadata": {
        "id": "vAWBaP3fIROr"
      },
      "source": [
        "# Importer la base de données\n",
        "Créer 4 DataFrame pour les 4 processus"
      ]
    },
    {
      "cell_type": "code",
      "metadata": {
        "id": "Zo9ecx-Z4o93",
        "colab": {
          "base_uri": "https://localhost:8080/"
        },
        "outputId": "d6b14f88-de6b-4957-c4d5-7b67f8209b6e"
      },
      "source": [
        "# Lire les bases de données\n",
        "df_A = pd.read_csv('/content/drive/MyDrive/OCP/Données oksalab/oksaLabData_A.csv')\n",
        "df_B = pd.read_csv('/content/drive/MyDrive/OCP/Données oksalab/oksaLabData_B.csv')\n",
        "df_D = pd.read_csv('/content/drive/MyDrive/OCP/Données oksalab/oksaLabData_D.csv')\n",
        "df_F = pd.read_csv('/content/drive/MyDrive/OCP/Données oksalab/oksaLabData_F.csv')"
      ],
      "execution_count": null,
      "outputs": [
        {
          "output_type": "stream",
          "text": [
            "/usr/local/lib/python3.7/dist-packages/IPython/core/interactiveshell.py:2718: DtypeWarning: Columns (0,1,4,5) have mixed types.Specify dtype option on import or set low_memory=False.\n",
            "  interactivity=interactivity, compiler=compiler, result=result)\n"
          ],
          "name": "stderr"
        }
      ]
    },
    {
      "cell_type": "code",
      "metadata": {
        "id": "8nnB0GvawwSB"
      },
      "source": [
        "# Supprimer les colonnes non nécessaires\n",
        "df_A = df_A.drop(df_A.columns[[0, 2, 4, 5]], axis = 1)\n",
        "df_B = df_B.drop(df_B.columns[[0, 2, 4, 5]], axis = 1)\n",
        "df_D = df_D.drop(df_D.columns[[0, 2, 4, 5]], axis = 1)\n",
        "df_F = df_F.drop(df_F.columns[[0, 2, 4, 5]], axis = 1)"
      ],
      "execution_count": null,
      "outputs": []
    },
    {
      "cell_type": "code",
      "metadata": {
        "colab": {
          "base_uri": "https://localhost:8080/"
        },
        "id": "mPcGZb5MMiOc",
        "outputId": "fd579acc-de5f-443c-988a-7075ca7802d4"
      },
      "source": [
        "df_F.info()"
      ],
      "execution_count": null,
      "outputs": [
        {
          "output_type": "stream",
          "text": [
            "<class 'pandas.core.frame.DataFrame'>\n",
            "RangeIndex: 1048575 entries, 0 to 1048574\n",
            "Data columns (total 13 columns):\n",
            " #   Column                   Non-Null Count  Dtype  \n",
            "---  ------                   --------------  -----  \n",
            " 0   jour                     28152 non-null  object \n",
            " 1   shift                    28152 non-null  float64\n",
            " 2   temp_Amoyen              4736 non-null   float64\n",
            " 3   temp_Afaible             9409 non-null   float64\n",
            " 4   temp_AFort               4661 non-null   float64\n",
            " 5   Densité Moyen            4736 non-null   float64\n",
            " 6   Densité Faible           9409 non-null   float64\n",
            " 7   Densité Filtrat          22077 non-null  float64\n",
            " 8   Température Bouillie °C  22078 non-null  float64\n",
            " 9   Température Filtrat °C   22069 non-null  float64\n",
            " 10  Densité Bouillie         22077 non-null  float64\n",
            " 11  Sulfate Libre (%H2SO4)   21929 non-null  float64\n",
            " 12  Densité Fort             4660 non-null   float64\n",
            "dtypes: float64(12), object(1)\n",
            "memory usage: 104.0+ MB\n"
          ],
          "name": "stdout"
        }
      ]
    },
    {
      "cell_type": "code",
      "metadata": {
        "id": "iMJe479LzUIV"
      },
      "source": [
        "# Changer l'appelation des colonnes\n",
        "colonnes = ['date','shift','dst_moy','dst_fbl','d2_dst_filt','d2_temp_boui',\n",
        "            'd2_sulf_lib','d2_dst_boui','c4_dst_filt','c4_temp_boui','c4_dst_boui',\n",
        "            'c4_sulf_lib', 'dst_eau-gyps','temp_eau_gyps','dst_fort','c1_dst_filt',\n",
        "            'c1_temp_boui','c1_dst_boui','c1_sulf_lib']\n",
        "\n",
        "colonnes_F =  ['date','shift','tempA_moy','tempA_fai','tempA_for','dst_moy',\n",
        "               'dst_fai','dst_filt','temp_boui','temp_filt','dst_boui','sulf_lib',\n",
        "               'dst_fort']\n",
        "\n",
        "df_A.columns = colonnes\n",
        "df_B.columns = colonnes\n",
        "df_D.columns = colonnes\n",
        "df_F.columns = colonnes_F"
      ],
      "execution_count": null,
      "outputs": []
    },
    {
      "cell_type": "code",
      "metadata": {
        "colab": {
          "base_uri": "https://localhost:8080/"
        },
        "id": "ifWPLlX2tbMJ",
        "outputId": "04f8f812-18ab-4fa0-cd1b-5ce4f16792e3"
      },
      "source": [
        "df_A.head(1)"
      ],
      "execution_count": null,
      "outputs": [
        {
          "output_type": "execute_result",
          "data": {
            "text/html": [
              "<div>\n",
              "<style scoped>\n",
              "    .dataframe tbody tr th:only-of-type {\n",
              "        vertical-align: middle;\n",
              "    }\n",
              "\n",
              "    .dataframe tbody tr th {\n",
              "        vertical-align: top;\n",
              "    }\n",
              "\n",
              "    .dataframe thead th {\n",
              "        text-align: right;\n",
              "    }\n",
              "</style>\n",
              "<table border=\"1\" class=\"dataframe\">\n",
              "  <thead>\n",
              "    <tr style=\"text-align: right;\">\n",
              "      <th></th>\n",
              "      <th>date</th>\n",
              "      <th>shift</th>\n",
              "      <th>dst_moy</th>\n",
              "      <th>dst_fbl</th>\n",
              "      <th>d2_dst_filt</th>\n",
              "      <th>d2_temp_boui</th>\n",
              "      <th>d2_sulf_lib</th>\n",
              "      <th>d2_dst_boui</th>\n",
              "      <th>c4_dst_filt</th>\n",
              "      <th>c4_temp_boui</th>\n",
              "      <th>c4_dst_boui</th>\n",
              "      <th>c4_sulf_lib</th>\n",
              "      <th>dst_eau-gyps</th>\n",
              "      <th>temp_eau_gyps</th>\n",
              "      <th>dst_fort</th>\n",
              "      <th>c1_dst_filt</th>\n",
              "      <th>c1_temp_boui</th>\n",
              "      <th>c1_dst_boui</th>\n",
              "      <th>c1_sulf_lib</th>\n",
              "    </tr>\n",
              "  </thead>\n",
              "  <tbody>\n",
              "    <tr>\n",
              "      <th>0</th>\n",
              "      <td>1/1/2018</td>\n",
              "      <td>1.0</td>\n",
              "      <td>NaN</td>\n",
              "      <td>NaN</td>\n",
              "      <td>NaN</td>\n",
              "      <td>NaN</td>\n",
              "      <td>NaN</td>\n",
              "      <td>NaN</td>\n",
              "      <td>NaN</td>\n",
              "      <td>NaN</td>\n",
              "      <td>NaN</td>\n",
              "      <td>NaN</td>\n",
              "      <td>NaN</td>\n",
              "      <td>NaN</td>\n",
              "      <td>NaN</td>\n",
              "      <td>NaN</td>\n",
              "      <td>NaN</td>\n",
              "      <td>NaN</td>\n",
              "      <td>NaN</td>\n",
              "    </tr>\n",
              "  </tbody>\n",
              "</table>\n",
              "</div>"
            ],
            "text/plain": [
              "       date  shift  dst_moy  ...  c1_temp_boui  c1_dst_boui  c1_sulf_lib\n",
              "0  1/1/2018    1.0      NaN  ...           NaN          NaN          NaN\n",
              "\n",
              "[1 rows x 19 columns]"
            ]
          },
          "metadata": {
            "tags": []
          },
          "execution_count": 6
        }
      ]
    },
    {
      "cell_type": "code",
      "metadata": {
        "id": "vYWoODV67KOG"
      },
      "source": [
        "# Traiter les données non numériques en remplaçant avec NaN\n",
        "df_A.iloc[:, 1:] = df_A.iloc[:, 1:].apply(pd.to_numeric, args=('coerce',))\n",
        "df_B.iloc[:, 1:] = df_B.iloc[:, 1:].apply(pd.to_numeric, args=('coerce',))\n",
        "df_D.iloc[:, 1:] = df_D.iloc[:, 1:].apply(pd.to_numeric, args=('coerce',))\n",
        "df_F.iloc[:, 1:] = df_F.iloc[:, 1:].apply(pd.to_numeric, args=('coerce',))"
      ],
      "execution_count": null,
      "outputs": []
    },
    {
      "cell_type": "code",
      "metadata": {
        "colab": {
          "base_uri": "https://localhost:8080/"
        },
        "id": "SALiOrcU71xK",
        "outputId": "cdccc743-a639-43dd-e3bd-f2c9d5763181"
      },
      "source": [
        "df_F.head(2)"
      ],
      "execution_count": null,
      "outputs": [
        {
          "output_type": "execute_result",
          "data": {
            "text/html": [
              "<div>\n",
              "<style scoped>\n",
              "    .dataframe tbody tr th:only-of-type {\n",
              "        vertical-align: middle;\n",
              "    }\n",
              "\n",
              "    .dataframe tbody tr th {\n",
              "        vertical-align: top;\n",
              "    }\n",
              "\n",
              "    .dataframe thead th {\n",
              "        text-align: right;\n",
              "    }\n",
              "</style>\n",
              "<table border=\"1\" class=\"dataframe\">\n",
              "  <thead>\n",
              "    <tr style=\"text-align: right;\">\n",
              "      <th></th>\n",
              "      <th>date</th>\n",
              "      <th>shift</th>\n",
              "      <th>tempA_moy</th>\n",
              "      <th>tempA_fai</th>\n",
              "      <th>tempA_for</th>\n",
              "      <th>dst_moy</th>\n",
              "      <th>dst_fai</th>\n",
              "      <th>dst_filt</th>\n",
              "      <th>temp_boui</th>\n",
              "      <th>temp_filt</th>\n",
              "      <th>dst_boui</th>\n",
              "      <th>sulf_lib</th>\n",
              "      <th>dst_fort</th>\n",
              "    </tr>\n",
              "  </thead>\n",
              "  <tbody>\n",
              "    <tr>\n",
              "      <th>0</th>\n",
              "      <td>1/1/2018</td>\n",
              "      <td>1.0</td>\n",
              "      <td>NaN</td>\n",
              "      <td>NaN</td>\n",
              "      <td>NaN</td>\n",
              "      <td>NaN</td>\n",
              "      <td>NaN</td>\n",
              "      <td>NaN</td>\n",
              "      <td>NaN</td>\n",
              "      <td>NaN</td>\n",
              "      <td>NaN</td>\n",
              "      <td>NaN</td>\n",
              "      <td>NaN</td>\n",
              "    </tr>\n",
              "    <tr>\n",
              "      <th>1</th>\n",
              "      <td>1/1/2018</td>\n",
              "      <td>1.0</td>\n",
              "      <td>NaN</td>\n",
              "      <td>NaN</td>\n",
              "      <td>NaN</td>\n",
              "      <td>NaN</td>\n",
              "      <td>NaN</td>\n",
              "      <td>NaN</td>\n",
              "      <td>NaN</td>\n",
              "      <td>NaN</td>\n",
              "      <td>NaN</td>\n",
              "      <td>NaN</td>\n",
              "      <td>NaN</td>\n",
              "    </tr>\n",
              "  </tbody>\n",
              "</table>\n",
              "</div>"
            ],
            "text/plain": [
              "       date  shift  tempA_moy  ...  dst_boui  sulf_lib  dst_fort\n",
              "0  1/1/2018    1.0        NaN  ...       NaN       NaN       NaN\n",
              "1  1/1/2018    1.0        NaN  ...       NaN       NaN       NaN\n",
              "\n",
              "[2 rows x 13 columns]"
            ]
          },
          "metadata": {
            "tags": []
          },
          "execution_count": 8
        }
      ]
    },
    {
      "cell_type": "code",
      "metadata": {
        "id": "plAmxO0DLyHE"
      },
      "source": [
        "# Supprimer les lignes dont la date n'est pas donnée\n",
        "df_A = df_A[df_A.date.notna()]\n",
        "df_B = df_B[df_B.date.notna()]\n",
        "df_D = df_D[df_D.date.notna()]\n",
        "df_F = df_F[df_F.date.notna()]"
      ],
      "execution_count": null,
      "outputs": []
    },
    {
      "cell_type": "code",
      "metadata": {
        "id": "0OMb8FqZFCnW"
      },
      "source": [
        "# Changer le type de la colonne jour en format date\n",
        "df_A['date'] = pd.to_datetime(df_A.date)\n",
        "df_B['date'] = pd.to_datetime(df_A.date)\n",
        "df_D['date'] = pd.to_datetime(df_A.date)\n",
        "df_F['date'] = pd.to_datetime(df_A.date)"
      ],
      "execution_count": null,
      "outputs": []
    },
    {
      "cell_type": "code",
      "metadata": {
        "colab": {
          "base_uri": "https://localhost:8080/"
        },
        "id": "AHDktmvMKrMK",
        "outputId": "55753e67-8edc-454f-f099-e4e281885686"
      },
      "source": [
        "print(df_A.shape)\n",
        "print(df_B.shape)\n",
        "print(df_D.shape)\n",
        "print(df_F.shape)"
      ],
      "execution_count": null,
      "outputs": [
        {
          "output_type": "stream",
          "text": [
            "(28152, 19)\n",
            "(28152, 19)\n",
            "(28152, 19)\n",
            "(28152, 13)\n"
          ],
          "name": "stdout"
        }
      ]
    },
    {
      "cell_type": "markdown",
      "metadata": {
        "id": "2efwpo1dLPtk"
      },
      "source": [
        "# Données non nécessaires (Repetitive Data, Duplicates..)"
      ]
    },
    {
      "cell_type": "code",
      "metadata": {
        "id": "54WDCca6OrmW"
      },
      "source": [
        "# Supprimer les lignes dont toutes les colonnes sont NaN\n",
        "df_A.dropna(subset=colonnes[2:], how='all', inplace=True)\n",
        "df_B.dropna(subset=colonnes[2:], how='all', inplace=True)\n",
        "df_D.dropna(subset=colonnes[2:], how='all', inplace=True)\n",
        "df_F.dropna(subset=colonnes_F[2:], how='all', inplace=True)"
      ],
      "execution_count": null,
      "outputs": []
    },
    {
      "cell_type": "code",
      "metadata": {
        "id": "nVeeda8MLaHR",
        "colab": {
          "base_uri": "https://localhost:8080/"
        },
        "outputId": "27f7d393-2459-4e39-8382-b3b24ab8d779"
      },
      "source": [
        "# Extraire les lignes dupliquées dans duplicate\n",
        "duplicate_A = df_A[df_A.duplicated()]\n",
        "duplicate_B = df_B[df_B.duplicated()]\n",
        "duplicate_D = df_D[df_D.duplicated()]\n",
        "duplicate_F = df_F[df_F.duplicated()]\n",
        "\n",
        "print('le pourcentage des lignes dupliquées = {} %'.format(round(len(duplicate_B)/len(df_B)*100)))\n",
        "print('le pourcentage des lignes dupliquées = {} %'.format(round(len(duplicate_F)/len(df_F)*100)))"
      ],
      "execution_count": null,
      "outputs": [
        {
          "output_type": "stream",
          "text": [
            "le pourcentage des lignes dupliquées = 0 %\n",
            "le pourcentage des lignes dupliquées = 0 %\n"
          ],
          "name": "stdout"
        }
      ]
    },
    {
      "cell_type": "markdown",
      "metadata": {
        "id": "H9-IQ7wCPIAX"
      },
      "source": [
        "# Les Valeurs Manquantes "
      ]
    },
    {
      "cell_type": "markdown",
      "metadata": {
        "id": "L_VbXeg2QAhW"
      },
      "source": [
        "**Processus A**"
      ]
    },
    {
      "cell_type": "code",
      "metadata": {
        "id": "xCEak53oPNJz",
        "colab": {
          "base_uri": "https://localhost:8080/"
        },
        "outputId": "70de56b1-7214-4b77-975b-d899b298f68b"
      },
      "source": [
        "# Tracer la Heatmap des valeurs manquantes \n",
        "colours = ['#000099', '#ffff00']\n",
        "sns.heatmap(df_A.isna(), yticklabels=False, cbar=False, cmap=sns.color_palette(colours))"
      ],
      "execution_count": null,
      "outputs": [
        {
          "output_type": "execute_result",
          "data": {
            "text/plain": [
              "<matplotlib.axes._subplots.AxesSubplot at 0x7f7ff9bda6d0>"
            ]
          },
          "metadata": {
            "tags": []
          },
          "execution_count": 14
        },
        {
          "output_type": "display_data",
          "data": {
            "image/png": "[encoded data removed]",
            "text/plain": [
              "<Figure size 432x288 with 1 Axes>"
            ]
          },
          "metadata": {
            "tags": [],
            "needs_background": "light"
          }
        }
      ]
    },
    {
      "cell_type": "code",
      "metadata": {
        "id": "JrGHG99JPcVU",
        "colab": {
          "base_uri": "https://localhost:8080/"
        },
        "outputId": "0d1f607f-0c43-4928-86b6-cb2be2ced365"
      },
      "source": [
        "# Le nombre de valeurs manquantes dans chaque colonne\n",
        "\"\"\"\n",
        "print('\\nle nombre de valeurs manquantes dans chaque colonne: ')\n",
        "print(df_A.isna().sum().sort_values(ascending=False))\n",
        "\"\"\"\n",
        "# Calculer les pourcentages des valeurs manquantes \n",
        "print('\\nles pourcentages importants des valeurs manquantes: ')\n",
        "#print(df.isna().sum()/len(df))\n",
        "for col in df_A.columns:\n",
        "  pct_missing = np.mean(df_A[col].isnull())\n",
        "  rounded_pct = round(pct_missing*100, 2)\n",
        "  if rounded_pct > 20:\n",
        "    print('{} - {}%'.format(col, rounded_pct))"
      ],
      "execution_count": null,
      "outputs": [
        {
          "output_type": "stream",
          "text": [
            "\n",
            "les pourcentages importants des valeurs manquantes: \n",
            "dst_moy - 91.37%\n",
            "d2_dst_boui - 99.74%\n",
            "dst_eau-gyps - 67.1%\n",
            "temp_eau_gyps - 67.07%\n",
            "dst_fort - 93.8%\n"
          ],
          "name": "stdout"
        }
      ]
    },
    {
      "cell_type": "markdown",
      "metadata": {
        "id": "14IeA9fbQFxr"
      },
      "source": [
        "**Processus B**"
      ]
    },
    {
      "cell_type": "code",
      "metadata": {
        "id": "OEvzuMBDP_S8",
        "colab": {
          "base_uri": "https://localhost:8080/"
        },
        "outputId": "d133f89b-85e6-4947-8914-4794d8a5a35e"
      },
      "source": [
        "# Tracer la Heatmap des valeurs manquantes \n",
        "colours = ['#000099', '#ffff00']\n",
        "sns.heatmap(df_B.isna(), yticklabels=False, cbar=False, cmap=sns.color_palette(colours))"
      ],
      "execution_count": null,
      "outputs": [
        {
          "output_type": "execute_result",
          "data": {
            "text/plain": [
              "<matplotlib.axes._subplots.AxesSubplot at 0x7f8009b52290>"
            ]
          },
          "metadata": {
            "tags": []
          },
          "execution_count": 16
        },
        {
          "output_type": "display_data",
          "data": {
            "image/png": "[encoded data removed]",
            "text/plain": [
              "<Figure size 432x288 with 1 Axes>"
            ]
          },
          "metadata": {
            "tags": [],
            "needs_background": "light"
          }
        }
      ]
    },
    {
      "cell_type": "code",
      "metadata": {
        "id": "-HXCjxOJQkHc",
        "colab": {
          "base_uri": "https://localhost:8080/"
        },
        "outputId": "5b638b93-b3da-45bd-fe75-7a19332f8a64"
      },
      "source": [
        "# Le nombre de valeurs manquantes dans chaque colonne\n",
        "\"\"\"\n",
        "print('\\nle nombre de valeurs manquantes dans chaque colonne: ')\n",
        "print(df_A.isna().sum().sort_values(ascending=False))\n",
        "\"\"\"\n",
        "# Calculer les pourcentages des valeurs manquantes \n",
        "print('\\nles pourcentages importants des valeurs manquantes: ')\n",
        "#print(df.isna().sum()/len(df))\n",
        "for col in df_B.columns:\n",
        "  pct_missing = np.mean(df_B[col].isnull())\n",
        "  rounded_pct = round(pct_missing*100, 2)\n",
        "  if rounded_pct > 20:\n",
        "    print('{} - {}%'.format(col, rounded_pct))"
      ],
      "execution_count": null,
      "outputs": [
        {
          "output_type": "stream",
          "text": [
            "\n",
            "les pourcentages importants des valeurs manquantes: \n",
            "dst_moy - 96.0%\n",
            "d2_sulf_lib - 44.55%\n",
            "d2_dst_boui - 99.67%\n",
            "dst_eau-gyps - 66.47%\n",
            "temp_eau_gyps - 66.47%\n",
            "dst_fort - 92.73%\n"
          ],
          "name": "stdout"
        }
      ]
    },
    {
      "cell_type": "markdown",
      "metadata": {
        "id": "aXCjTr8rQWeC"
      },
      "source": [
        "**Processus D**"
      ]
    },
    {
      "cell_type": "code",
      "metadata": {
        "id": "BAqQV2cWQbAG",
        "colab": {
          "base_uri": "https://localhost:8080/"
        },
        "outputId": "ff908b68-2aa7-4bfb-879b-43a8d0caec45"
      },
      "source": [
        "# Tracer la Heatmap des valeurs manquantes \n",
        "colours = ['#000099', '#ffff00']\n",
        "sns.heatmap(df_D.isna(), yticklabels=False, cbar=False, cmap=sns.color_palette(colours))"
      ],
      "execution_count": null,
      "outputs": [
        {
          "output_type": "execute_result",
          "data": {
            "text/plain": [
              "<matplotlib.axes._subplots.AxesSubplot at 0x7f8001bed950>"
            ]
          },
          "metadata": {
            "tags": []
          },
          "execution_count": 18
        },
        {
          "output_type": "display_data",
          "data": {
            "image/png": "[encoded data removed]",
            "text/plain": [
              "<Figure size 432x288 with 1 Axes>"
            ]
          },
          "metadata": {
            "tags": [],
            "needs_background": "light"
          }
        }
      ]
    },
    {
      "cell_type": "code",
      "metadata": {
        "id": "YI35caOAQlKH",
        "colab": {
          "base_uri": "https://localhost:8080/"
        },
        "outputId": "787f8792-423a-4a91-f04d-596388965161"
      },
      "source": [
        "# Le nombre de valeurs manquantes dans chaque colonne\n",
        "\"\"\"\n",
        "print('\\nle nombre de valeurs manquantes dans chaque colonne: ')\n",
        "print(df_A.isna().sum().sort_values(ascending=False))\n",
        "\"\"\"\n",
        "# Calculer les pourcentages des valeurs manquantes \n",
        "print('\\nles pourcentages importants des valeurs manquantes: ')\n",
        "#print(df.isna().sum()/len(df))\n",
        "for col in df_D.columns:\n",
        "  pct_missing = np.mean(df_D[col].isnull())\n",
        "  rounded_pct = round(pct_missing*100, 2)\n",
        "  if rounded_pct > 20:\n",
        "    print('{} - {}%'.format(col, rounded_pct))"
      ],
      "execution_count": null,
      "outputs": [
        {
          "output_type": "stream",
          "text": [
            "\n",
            "les pourcentages importants des valeurs manquantes: \n",
            "dst_moy - 91.77%\n",
            "d2_sulf_lib - 24.16%\n",
            "d2_dst_boui - 78.24%\n",
            "dst_eau-gyps - 75.92%\n",
            "temp_eau_gyps - 82.39%\n",
            "dst_fort - 93.09%\n"
          ],
          "name": "stdout"
        }
      ]
    },
    {
      "cell_type": "markdown",
      "metadata": {
        "id": "WjwgoXFpQbct"
      },
      "source": [
        "**Processus F**"
      ]
    },
    {
      "cell_type": "code",
      "metadata": {
        "id": "qgmtshokQgJW",
        "colab": {
          "base_uri": "https://localhost:8080/"
        },
        "outputId": "ffba2c10-c7e0-4c8f-d662-9a8456027af6"
      },
      "source": [
        "# Tracer la Heatmap des valeurs manquantes \n",
        "colours = ['#000099', '#ffff00']\n",
        "sns.heatmap(df_F.isna(), yticklabels=False, cbar=False, cmap=sns.color_palette(colours))"
      ],
      "execution_count": null,
      "outputs": [
        {
          "output_type": "execute_result",
          "data": {
            "text/plain": [
              "<matplotlib.axes._subplots.AxesSubplot at 0x7f8001bf6190>"
            ]
          },
          "metadata": {
            "tags": []
          },
          "execution_count": 20
        },
        {
          "output_type": "display_data",
          "data": {
            "image/png": "[encoded data removed]",
            "text/plain": [
              "<Figure size 432x288 with 1 Axes>"
            ]
          },
          "metadata": {
            "tags": [],
            "needs_background": "light"
          }
        }
      ]
    },
    {
      "cell_type": "code",
      "metadata": {
        "id": "eI2GluPYQmKL",
        "colab": {
          "base_uri": "https://localhost:8080/"
        },
        "outputId": "c3313b2d-431a-44bd-ed8e-7781023f7584"
      },
      "source": [
        "# Le nombre de valeurs manquantes dans chaque colonne\n",
        "\"\"\"\n",
        "print('\\nle nombre de valeurs manquantes dans chaque colonne: ')\n",
        "print(df_A.isna().sum().sort_values(ascending=False))\n",
        "\"\"\"\n",
        "# Calculer les pourcentages des valeurs manquantes \n",
        "print('\\nles pourcentages importants des valeurs manquantes: ')\n",
        "#print(df.isna().sum()/len(df))\n",
        "for col in df_F.columns:\n",
        "  pct_missing = np.mean(df_F[col].isnull())\n",
        "  rounded_pct = round(pct_missing*100, 2)\n",
        "  if rounded_pct > 20:\n",
        "    print('{} - {}%'.format(col, rounded_pct))"
      ],
      "execution_count": null,
      "outputs": [
        {
          "output_type": "stream",
          "text": [
            "\n",
            "les pourcentages importants des valeurs manquantes: \n",
            "tempA_moy - 78.69%\n",
            "tempA_fai - 57.67%\n",
            "tempA_for - 79.03%\n",
            "dst_moy - 78.69%\n",
            "dst_fai - 57.67%\n",
            "dst_fort - 79.03%\n"
          ],
          "name": "stdout"
        }
      ]
    },
    {
      "cell_type": "markdown",
      "metadata": {
        "id": "YfY2b_Amz-TA"
      },
      "source": [
        "# Les valeurs Aberrantes"
      ]
    },
    {
      "cell_type": "code",
      "metadata": {
        "id": "bZvHjdft0Egr",
        "colab": {
          "base_uri": "https://localhost:8080/"
        },
        "outputId": "ea58fcf3-db42-4ece-8f79-ab97140b4d0f"
      },
      "source": [
        "sns.boxplot(data=df_A, x=df_A['dst_moy'])"
      ],
      "execution_count": null,
      "outputs": [
        {
          "output_type": "execute_result",
          "data": {
            "text/plain": [
              "<matplotlib.axes._subplots.AxesSubplot at 0x7f7ff9dc6490>"
            ]
          },
          "metadata": {
            "tags": []
          },
          "execution_count": 22
        },
        {
          "output_type": "display_data",
          "data": {
            "image/png": "[encoded data removed]",
            "text/plain": [
              "<Figure size 432x288 with 1 Axes>"
            ]
          },
          "metadata": {
            "tags": [],
            "needs_background": "light"
          }
        }
      ]
    },
    {
      "cell_type": "code",
      "metadata": {
        "id": "mRsaQFZL0V0L",
        "colab": {
          "base_uri": "https://localhost:8080/"
        },
        "outputId": "63313bb0-e8bf-4a77-ee45-d7e5ec1cf588"
      },
      "source": [
        "sns.boxplot(data=df_A, x=df_A['dst_fbl'])"
      ],
      "execution_count": null,
      "outputs": [
        {
          "output_type": "execute_result",
          "data": {
            "text/plain": [
              "<matplotlib.axes._subplots.AxesSubplot at 0x7f8011d1c710>"
            ]
          },
          "metadata": {
            "tags": []
          },
          "execution_count": 23
        },
        {
          "output_type": "display_data",
          "data": {
            "image/png": "[encoded data removed]",
            "text/plain": [
              "<Figure size 432x288 with 1 Axes>"
            ]
          },
          "metadata": {
            "tags": [],
            "needs_background": "light"
          }
        }
      ]
    },
    {
      "cell_type": "code",
      "metadata": {
        "id": "C4EWI1U30ntb"
      },
      "source": [
        "# Fonction qui gère les valeurs abbérantes\n",
        "# IQR: Interquartile Range\n",
        "\n",
        "def handle_outliers(df):\n",
        "  rows_to_drop = []\n",
        "  for col in df.columns[1:]:\n",
        "    print(type(df[col]))\n",
        "    q1 = df[col].quantile(0.25)\n",
        "    q3 = df[col].quantile(0.75)\n",
        "    iqr = q3 - q1\n",
        "    lower_whisker = q1 - 1.5*iqr\n",
        "    upper_whisker = q3 + 1.5*iqr\n",
        "    l = len(df)\n",
        "    for i in range(0, l):\n",
        "      if (df.loc[df.index[i], col]>upper_whisker) | (df.loc[df.index[i], col]<lower_whisker):\n",
        "        # Remplacer les outliers avec nan\n",
        "        df.loc[df.index[i], col] = np.nan"
      ],
      "execution_count": null,
      "outputs": []
    },
    {
      "cell_type": "code",
      "metadata": {
        "id": "ZOQddmHS0iPC",
        "colab": {
          "base_uri": "https://localhost:8080/"
        },
        "outputId": "c2d364a0-b4a1-46c9-d16d-3864a8f6a378"
      },
      "source": [
        "handle_outliers(df_A);\n",
        "handle_outliers(df_B);\n",
        "handle_outliers(df_D);\n",
        "handle_outliers(df_F);"
      ],
      "execution_count": null,
      "outputs": [
        {
          "output_type": "stream",
          "text": [
            "<class 'pandas.core.series.Series'>\n",
            "<class 'pandas.core.series.Series'>\n",
            "<class 'pandas.core.series.Series'>\n",
            "<class 'pandas.core.series.Series'>\n",
            "<class 'pandas.core.series.Series'>\n",
            "<class 'pandas.core.series.Series'>\n",
            "<class 'pandas.core.series.Series'>\n",
            "<class 'pandas.core.series.Series'>\n",
            "<class 'pandas.core.series.Series'>\n",
            "<class 'pandas.core.series.Series'>\n",
            "<class 'pandas.core.series.Series'>\n",
            "<class 'pandas.core.series.Series'>\n",
            "<class 'pandas.core.series.Series'>\n",
            "<class 'pandas.core.series.Series'>\n",
            "<class 'pandas.core.series.Series'>\n",
            "<class 'pandas.core.series.Series'>\n",
            "<class 'pandas.core.series.Series'>\n",
            "<class 'pandas.core.series.Series'>\n",
            "<class 'pandas.core.series.Series'>\n",
            "<class 'pandas.core.series.Series'>\n",
            "<class 'pandas.core.series.Series'>\n",
            "<class 'pandas.core.series.Series'>\n",
            "<class 'pandas.core.series.Series'>\n",
            "<class 'pandas.core.series.Series'>\n",
            "<class 'pandas.core.series.Series'>\n",
            "<class 'pandas.core.series.Series'>\n",
            "<class 'pandas.core.series.Series'>\n",
            "<class 'pandas.core.series.Series'>\n",
            "<class 'pandas.core.series.Series'>\n",
            "<class 'pandas.core.series.Series'>\n",
            "<class 'pandas.core.series.Series'>\n",
            "<class 'pandas.core.series.Series'>\n",
            "<class 'pandas.core.series.Series'>\n",
            "<class 'pandas.core.series.Series'>\n",
            "<class 'pandas.core.series.Series'>\n",
            "<class 'pandas.core.series.Series'>\n",
            "<class 'pandas.core.series.Series'>\n",
            "<class 'pandas.core.series.Series'>\n",
            "<class 'pandas.core.series.Series'>\n",
            "<class 'pandas.core.series.Series'>\n",
            "<class 'pandas.core.series.Series'>\n",
            "<class 'pandas.core.series.Series'>\n",
            "<class 'pandas.core.series.Series'>\n",
            "<class 'pandas.core.series.Series'>\n",
            "<class 'pandas.core.series.Series'>\n",
            "<class 'pandas.core.series.Series'>\n",
            "<class 'pandas.core.series.Series'>\n",
            "<class 'pandas.core.series.Series'>\n",
            "<class 'pandas.core.series.Series'>\n",
            "<class 'pandas.core.series.Series'>\n",
            "<class 'pandas.core.series.Series'>\n",
            "<class 'pandas.core.series.Series'>\n",
            "<class 'pandas.core.series.Series'>\n",
            "<class 'pandas.core.series.Series'>\n",
            "<class 'pandas.core.series.Series'>\n",
            "<class 'pandas.core.series.Series'>\n",
            "<class 'pandas.core.series.Series'>\n",
            "<class 'pandas.core.series.Series'>\n",
            "<class 'pandas.core.series.Series'>\n",
            "<class 'pandas.core.series.Series'>\n",
            "<class 'pandas.core.series.Series'>\n",
            "<class 'pandas.core.series.Series'>\n",
            "<class 'pandas.core.series.Series'>\n",
            "<class 'pandas.core.series.Series'>\n",
            "<class 'pandas.core.series.Series'>\n",
            "<class 'pandas.core.series.Series'>\n"
          ],
          "name": "stdout"
        }
      ]
    },
    {
      "cell_type": "code",
      "metadata": {
        "id": "p8_AEIum2byj",
        "colab": {
          "base_uri": "https://localhost:8080/"
        },
        "outputId": "cdf21e85-795d-42cf-9849-d2779182b08b"
      },
      "source": [
        "sns.boxplot(data=df_A, x=df_A['dst_moy'])"
      ],
      "execution_count": null,
      "outputs": [
        {
          "output_type": "execute_result",
          "data": {
            "text/plain": [
              "<matplotlib.axes._subplots.AxesSubplot at 0x7f7ff7c62f50>"
            ]
          },
          "metadata": {
            "tags": []
          },
          "execution_count": 26
        },
        {
          "output_type": "display_data",
          "data": {
            "image/png": "[encoded data removed]",
            "text/plain": [
              "<Figure size 432x288 with 1 Axes>"
            ]
          },
          "metadata": {
            "tags": [],
            "needs_background": "light"
          }
        }
      ]
    },
    {
      "cell_type": "code",
      "metadata": {
        "id": "nvgs5Bi71TmD",
        "colab": {
          "base_uri": "https://localhost:8080/"
        },
        "outputId": "d2496cb0-bd59-4aac-dde0-0f3fc44719dc"
      },
      "source": [
        "sns.boxplot(data=df_A, x=df_A['dst_fbl'])"
      ],
      "execution_count": null,
      "outputs": [
        {
          "output_type": "execute_result",
          "data": {
            "text/plain": [
              "<matplotlib.axes._subplots.AxesSubplot at 0x7f8011c13f50>"
            ]
          },
          "metadata": {
            "tags": []
          },
          "execution_count": 27
        },
        {
          "output_type": "display_data",
          "data": {
            "image/png": "[encoded data removed]",
            "text/plain": [
              "<Figure size 432x288 with 1 Axes>"
            ]
          },
          "metadata": {
            "tags": [],
            "needs_background": "light"
          }
        }
      ]
    },
    {
      "cell_type": "markdown",
      "metadata": {
        "id": "0MG1mr2SDtrR"
      },
      "source": [
        "# Export Files"
      ]
    },
    {
      "cell_type": "code",
      "metadata": {
        "id": "tMehwNzpkfXQ",
        "colab": {
          "base_uri": "https://localhost:8080/"
        },
        "outputId": "6e731bfe-e8ad-4ebd-b94a-6b95208fc110"
      },
      "source": [
        "# Uncommenter cette intruction pour installer le XlsWriter\n",
        "#pip install XlsxWriter\n",
        "'''\n",
        "writer = pd.ExcelWriter('resultats_process.xlsx', engine='xlsxwriter')\n",
        "df_A.to_excel(writer, sheet_name='A')\n",
        "df_B.to_excel(writer, sheet_name='B')\n",
        "df_D.to_excel(writer, sheet_name='D')\n",
        "df_F.to_excel(writer, sheet_name='F')\n",
        "writer.save()\n",
        "'''"
      ],
      "execution_count": null,
      "outputs": [
        {
          "output_type": "execute_result",
          "data": {
            "application/vnd.google.colaboratory.intrinsic+json": {
              "type": "string"
            },
            "text/plain": [
              "\"\\nwriter = pd.ExcelWriter('resultats_process.xlsx', engine='xlsxwriter')\\ndf_A.to_excel(writer, sheet_name='A')\\ndf_B.to_excel(writer, sheet_name='B')\\ndf_D.to_excel(writer, sheet_name='D')\\ndf_F.to_excel(writer, sheet_name='F')\\nwriter.save()\\n\""
            ]
          },
          "metadata": {
            "tags": []
          },
          "execution_count": 28
        }
      ]
    },
    {
      "cell_type": "code",
      "metadata": {
        "id": "0NeLArFEkGJ5",
        "colab": {
          "base_uri": "https://localhost:8080/"
        },
        "outputId": "d328a31f-3375-492e-a620-8d5b170b600d"
      },
      "source": [
        "'''\n",
        "newA = pd.read_excel('/content/resultats_process.xlsx', sheet_name='A')\n",
        "newA.info()\n",
        "'''"
      ],
      "execution_count": null,
      "outputs": [
        {
          "output_type": "execute_result",
          "data": {
            "application/vnd.google.colaboratory.intrinsic+json": {
              "type": "string"
            },
            "text/plain": [
              "\"\\nnewA = pd.read_excel('/content/resultats_process.xlsx', sheet_name='A')\\nnewA.info()\\n\""
            ]
          },
          "metadata": {
            "tags": []
          },
          "execution_count": 29
        }
      ]
    },
    {
      "cell_type": "markdown",
      "metadata": {
        "id": "2TSC5rRJx3v7"
      },
      "source": [
        "# Normalité"
      ]
    },
    {
      "cell_type": "code",
      "metadata": {
        "id": "rPiCD8aA9V87"
      },
      "source": [
        "# Kstest pour tester la Normalité\n",
        "def test_normalite_1(df):\n",
        "  # Numeric columns\n",
        "  df_num = df.select_dtypes(include=np.number)\n",
        "  df_cat = df.select_dtypes(exclude=[np.number])\n",
        "  \n",
        "  for col in df_num.columns:\n",
        "    x = ~np.isnan(df[col])\n",
        "    normed_col = (x - x.mean())/ x.std()\n",
        "    d, p_value = stats.kstest(normed_col, 'norm')\n",
        "    print(col, 'd={%e}, pval={%e}'%(round(d,3), p_value))"
      ],
      "execution_count": null,
      "outputs": []
    },
    {
      "cell_type": "code",
      "metadata": {
        "id": "jgRVw3LAAOpu"
      },
      "source": [
        "# Normal test pour tester la normalité\n",
        "def test_normalite_2(df):\n",
        "  for col in df.columns[2:]:\n",
        "    stat, p = stats.normaltest(df[col], axis=0, nan_policy='omit')\n",
        "    print('statistics=%.3f, p=%.3f'%(stat, p))\n",
        "    # interpretation\n",
        "    alpha = 0.05\n",
        "    if p > alpha:\n",
        "      print('la distribution de ',col, ' est normale (Garder H0)')\n",
        "    else:\n",
        "      print('la distribution  de ',col,' apparait non gaussienne (Rejeter H0)')"
      ],
      "execution_count": null,
      "outputs": []
    },
    {
      "cell_type": "markdown",
      "metadata": {
        "id": "Ch0aucE32-YW"
      },
      "source": [
        "**Process A**"
      ]
    },
    {
      "cell_type": "code",
      "metadata": {
        "id": "MfzaSskCx8mE",
        "colab": {
          "base_uri": "https://localhost:8080/"
        },
        "outputId": "836cf764-1112-49bd-a314-1a3c7b9337c1"
      },
      "source": [
        "# Histograme pour visualiser la distribution (Normalité)\n",
        "df_A.iloc[:, 3:].hist(figsize=(16, 20), bins=10, xlabelsize=8, ylabelsize=8);"
      ],
      "execution_count": null,
      "outputs": [
        {
          "output_type": "display_data",
          "data": {
            "image/png": "[encoded data removed]",
            "text/plain": [
              "<Figure size 1152x1440 with 16 Axes>"
            ]
          },
          "metadata": {
            "tags": [],
            "needs_background": "light"
          }
        }
      ]
    },
    {
      "cell_type": "code",
      "metadata": {
        "id": "ePQKDStu_yCr",
        "colab": {
          "base_uri": "https://localhost:8080/"
        },
        "outputId": "51a0f5ca-e09e-4881-f881-0140129a6941"
      },
      "source": [
        "test_normalite_1(df_A.iloc[:, 3:])"
      ],
      "execution_count": null,
      "outputs": [
        {
          "output_type": "stream",
          "text": [
            "dst_fbl d={5.150000e-01}, pval={0.000000e+00}\n",
            "d2_dst_filt d={5.400000e-01}, pval={0.000000e+00}\n",
            "d2_temp_boui d={5.370000e-01}, pval={0.000000e+00}\n",
            "d2_sulf_lib d={5.410000e-01}, pval={0.000000e+00}\n",
            "d2_dst_boui d={5.170000e-01}, pval={0.000000e+00}\n",
            "c4_dst_filt d={5.410000e-01}, pval={0.000000e+00}\n",
            "c4_temp_boui d={5.410000e-01}, pval={0.000000e+00}\n",
            "c4_dst_boui d={5.390000e-01}, pval={0.000000e+00}\n",
            "c4_sulf_lib d={5.400000e-01}, pval={0.000000e+00}\n",
            "dst_eau-gyps d={4.460000e-01}, pval={0.000000e+00}\n",
            "temp_eau_gyps d={4.300000e-01}, pval={0.000000e+00}\n",
            "dst_fort d={5.400000e-01}, pval={0.000000e+00}\n",
            "c1_dst_filt d={5.410000e-01}, pval={0.000000e+00}\n",
            "c1_temp_boui d={5.390000e-01}, pval={0.000000e+00}\n",
            "c1_dst_boui d={5.400000e-01}, pval={0.000000e+00}\n",
            "c1_sulf_lib d={5.400000e-01}, pval={0.000000e+00}\n"
          ],
          "name": "stdout"
        }
      ]
    },
    {
      "cell_type": "code",
      "metadata": {
        "id": "uyWf_0SUBXTT",
        "colab": {
          "base_uri": "https://localhost:8080/"
        },
        "outputId": "ef05ad90-ecf3-4ca4-e964-aa3bb9b39e77"
      },
      "source": [
        "test_normalite_2(df_A)"
      ],
      "execution_count": null,
      "outputs": [
        {
          "output_type": "stream",
          "text": [
            "statistics=3.362, p=0.186\n",
            "la distribution de  dst_moy  est normale (Garder H0)\n",
            "statistics=674.566, p=0.000\n",
            "la distribution  de  dst_fbl  apparait non gaussienne (Rejeter H0)\n",
            "statistics=45.180, p=0.000\n",
            "la distribution  de  d2_dst_filt  apparait non gaussienne (Rejeter H0)\n",
            "statistics=582.206, p=0.000\n",
            "la distribution  de  d2_temp_boui  apparait non gaussienne (Rejeter H0)\n",
            "statistics=38.799, p=0.000\n",
            "la distribution  de  d2_sulf_lib  apparait non gaussienne (Rejeter H0)\n",
            "statistics=2.461, p=0.292\n",
            "la distribution de  d2_dst_boui  est normale (Garder H0)\n",
            "statistics=97.333, p=0.000\n",
            "la distribution  de  c4_dst_filt  apparait non gaussienne (Rejeter H0)\n",
            "statistics=21.622, p=0.000\n",
            "la distribution  de  c4_temp_boui  apparait non gaussienne (Rejeter H0)\n",
            "statistics=190.984, p=0.000\n",
            "la distribution  de  c4_dst_boui  apparait non gaussienne (Rejeter H0)\n",
            "statistics=279.291, p=0.000\n",
            "la distribution  de  c4_sulf_lib  apparait non gaussienne (Rejeter H0)\n",
            "statistics=47.513, p=0.000\n",
            "la distribution  de  dst_eau-gyps  apparait non gaussienne (Rejeter H0)\n",
            "statistics=15.621, p=0.000\n",
            "la distribution  de  temp_eau_gyps  apparait non gaussienne (Rejeter H0)\n",
            "statistics=2.110, p=0.348\n",
            "la distribution de  dst_fort  est normale (Garder H0)\n",
            "statistics=18.869, p=0.000\n",
            "la distribution  de  c1_dst_filt  apparait non gaussienne (Rejeter H0)\n",
            "statistics=58.337, p=0.000\n",
            "la distribution  de  c1_temp_boui  apparait non gaussienne (Rejeter H0)\n",
            "statistics=219.747, p=0.000\n",
            "la distribution  de  c1_dst_boui  apparait non gaussienne (Rejeter H0)\n",
            "statistics=92.327, p=0.000\n",
            "la distribution  de  c1_sulf_lib  apparait non gaussienne (Rejeter H0)\n"
          ],
          "name": "stdout"
        }
      ]
    },
    {
      "cell_type": "markdown",
      "metadata": {
        "id": "RB1JNcm79CzC"
      },
      "source": [
        "**Process B**"
      ]
    },
    {
      "cell_type": "code",
      "metadata": {
        "id": "M7kWfoYLBi3-",
        "colab": {
          "base_uri": "https://localhost:8080/"
        },
        "outputId": "fc19223c-8396-4afa-c93d-42936681bde1"
      },
      "source": [
        "# Histograme pour visualiser la distribution (Normalité)\n",
        "df_B.iloc[:, 3:].hist(figsize=(16, 20), bins=10, xlabelsize=8, ylabelsize=8);"
      ],
      "execution_count": null,
      "outputs": [
        {
          "output_type": "display_data",
          "data": {
            "image/png": "[encoded data removed]",
            "text/plain": [
              "<Figure size 1152x1440 with 16 Axes>"
            ]
          },
          "metadata": {
            "tags": [],
            "needs_background": "light"
          }
        }
      ]
    },
    {
      "cell_type": "code",
      "metadata": {
        "id": "uHONsiMnBivS",
        "colab": {
          "base_uri": "https://localhost:8080/"
        },
        "outputId": "98bbe7ef-cffc-4fe0-ba62-36606be6e32a"
      },
      "source": [
        "test_normalite_1(df_B.iloc[:, 3:])"
      ],
      "execution_count": null,
      "outputs": [
        {
          "output_type": "stream",
          "text": [
            "dst_fbl d={5.150000e-01}, pval={0.000000e+00}\n",
            "d2_dst_filt d={5.400000e-01}, pval={0.000000e+00}\n",
            "d2_temp_boui d={5.390000e-01}, pval={0.000000e+00}\n",
            "d2_sulf_lib d={3.660000e-01}, pval={0.000000e+00}\n",
            "d2_dst_boui d={5.200000e-01}, pval={0.000000e+00}\n",
            "c4_dst_filt d={5.410000e-01}, pval={0.000000e+00}\n",
            "c4_temp_boui d={5.410000e-01}, pval={0.000000e+00}\n",
            "c4_dst_boui d={5.390000e-01}, pval={0.000000e+00}\n",
            "c4_sulf_lib d={5.400000e-01}, pval={0.000000e+00}\n",
            "dst_eau-gyps d={4.330000e-01}, pval={0.000000e+00}\n",
            "temp_eau_gyps d={4.300000e-01}, pval={0.000000e+00}\n",
            "dst_fort d={5.380000e-01}, pval={0.000000e+00}\n",
            "c1_dst_filt d={5.410000e-01}, pval={0.000000e+00}\n",
            "c1_temp_boui d={5.410000e-01}, pval={0.000000e+00}\n",
            "c1_dst_boui d={5.390000e-01}, pval={0.000000e+00}\n",
            "c1_sulf_lib d={5.370000e-01}, pval={0.000000e+00}\n"
          ],
          "name": "stdout"
        }
      ]
    },
    {
      "cell_type": "code",
      "metadata": {
        "id": "SdagtJjiBiMX",
        "colab": {
          "base_uri": "https://localhost:8080/"
        },
        "outputId": "58a5fb04-171f-434b-8e42-1903ab1ea1dc"
      },
      "source": [
        "'''Probleme avec d2_dst_boui y'a une valeur ~100% manquantes'''\n",
        "test_normalite_2(df_B)"
      ],
      "execution_count": null,
      "outputs": [
        {
          "output_type": "stream",
          "text": [
            "statistics=1.003, p=0.606\n",
            "la distribution de  dst_moy  est normale (Garder H0)\n",
            "statistics=702.693, p=0.000\n",
            "la distribution  de  dst_fbl  apparait non gaussienne (Rejeter H0)\n",
            "statistics=60.675, p=0.000\n",
            "la distribution  de  d2_dst_filt  apparait non gaussienne (Rejeter H0)\n",
            "statistics=660.935, p=0.000\n",
            "la distribution  de  d2_temp_boui  apparait non gaussienne (Rejeter H0)\n",
            "statistics=27.387, p=0.000\n",
            "la distribution  de  d2_sulf_lib  apparait non gaussienne (Rejeter H0)\n",
            "statistics=9.823, p=0.007\n",
            "la distribution  de  d2_dst_boui  apparait non gaussienne (Rejeter H0)\n",
            "statistics=133.388, p=0.000\n",
            "la distribution  de  c4_dst_filt  apparait non gaussienne (Rejeter H0)\n",
            "statistics=35.252, p=0.000\n",
            "la distribution  de  c4_temp_boui  apparait non gaussienne (Rejeter H0)\n",
            "statistics=143.949, p=0.000\n",
            "la distribution  de  c4_dst_boui  apparait non gaussienne (Rejeter H0)\n",
            "statistics=243.349, p=0.000\n",
            "la distribution  de  c4_sulf_lib  apparait non gaussienne (Rejeter H0)\n",
            "statistics=239.804, p=0.000\n",
            "la distribution  de  dst_eau-gyps  apparait non gaussienne (Rejeter H0)\n",
            "statistics=27.693, p=0.000\n",
            "la distribution  de  temp_eau_gyps  apparait non gaussienne (Rejeter H0)\n",
            "statistics=1.742, p=0.419\n",
            "la distribution de  dst_fort  est normale (Garder H0)\n",
            "statistics=53.494, p=0.000\n",
            "la distribution  de  c1_dst_filt  apparait non gaussienne (Rejeter H0)\n",
            "statistics=8.855, p=0.012\n",
            "la distribution  de  c1_temp_boui  apparait non gaussienne (Rejeter H0)\n",
            "statistics=177.770, p=0.000\n",
            "la distribution  de  c1_dst_boui  apparait non gaussienne (Rejeter H0)\n",
            "statistics=164.723, p=0.000\n",
            "la distribution  de  c1_sulf_lib  apparait non gaussienne (Rejeter H0)\n"
          ],
          "name": "stdout"
        }
      ]
    },
    {
      "cell_type": "markdown",
      "metadata": {
        "id": "Um7yT6-D9FM_"
      },
      "source": [
        "**Process D**"
      ]
    },
    {
      "cell_type": "code",
      "metadata": {
        "id": "-_99ywDxBsqv",
        "colab": {
          "base_uri": "https://localhost:8080/"
        },
        "outputId": "503ea78a-4306-4ea9-aad1-d6729737cc60"
      },
      "source": [
        "# Histograme pour visualiser la distribution (Normalité)\n",
        "df_D.iloc[:, 3:].hist(figsize=(16, 20), bins=10, xlabelsize=8, ylabelsize=8);"
      ],
      "execution_count": null,
      "outputs": [
        {
          "output_type": "display_data",
          "data": {
            "image/png": "[encoded data removed]",
            "text/plain": [
              "<Figure size 1152x1440 with 16 Axes>"
            ]
          },
          "metadata": {
            "tags": [],
            "needs_background": "light"
          }
        }
      ]
    },
    {
      "cell_type": "code",
      "metadata": {
        "id": "_1tw_h6OB0Sh",
        "colab": {
          "base_uri": "https://localhost:8080/"
        },
        "outputId": "bd43b751-8f54-4776-a856-6812f5ddce0c"
      },
      "source": [
        "test_normalite_1(df_D.iloc[:, 3:])"
      ],
      "execution_count": null,
      "outputs": [
        {
          "output_type": "stream",
          "text": [
            "dst_fbl d={5.170000e-01}, pval={0.000000e+00}\n",
            "d2_dst_filt d={5.390000e-01}, pval={0.000000e+00}\n",
            "d2_temp_boui d={5.390000e-01}, pval={0.000000e+00}\n",
            "d2_sulf_lib d={4.670000e-01}, pval={0.000000e+00}\n",
            "d2_dst_boui d={4.840000e-01}, pval={0.000000e+00}\n",
            "c4_dst_filt d={5.400000e-01}, pval={0.000000e+00}\n",
            "c4_temp_boui d={5.400000e-01}, pval={0.000000e+00}\n",
            "c4_dst_boui d={5.390000e-01}, pval={0.000000e+00}\n",
            "c4_sulf_lib d={5.410000e-01}, pval={0.000000e+00}\n",
            "dst_eau-gyps d={4.730000e-01}, pval={0.000000e+00}\n",
            "temp_eau_gyps d={5.030000e-01}, pval={0.000000e+00}\n",
            "dst_fort d={5.380000e-01}, pval={0.000000e+00}\n",
            "c1_dst_filt d={5.410000e-01}, pval={0.000000e+00}\n",
            "c1_temp_boui d={5.390000e-01}, pval={0.000000e+00}\n",
            "c1_dst_boui d={5.400000e-01}, pval={0.000000e+00}\n",
            "c1_sulf_lib d={5.410000e-01}, pval={0.000000e+00}\n"
          ],
          "name": "stdout"
        }
      ]
    },
    {
      "cell_type": "code",
      "metadata": {
        "id": "stgI1DFGB4hD",
        "colab": {
          "base_uri": "https://localhost:8080/"
        },
        "outputId": "fd261165-0b5d-49f8-c9ba-0e076951c8a8"
      },
      "source": [
        "'''Probleme avec d2_dst_boui y'a une valeur ~100% manquantes'''\n",
        "test_normalite_2(df_D)"
      ],
      "execution_count": null,
      "outputs": [
        {
          "output_type": "stream",
          "text": [
            "statistics=2.314, p=0.314\n",
            "la distribution de  dst_moy  est normale (Garder H0)\n",
            "statistics=566.321, p=0.000\n",
            "la distribution  de  dst_fbl  apparait non gaussienne (Rejeter H0)\n",
            "statistics=23.803, p=0.000\n",
            "la distribution  de  d2_dst_filt  apparait non gaussienne (Rejeter H0)\n",
            "statistics=700.211, p=0.000\n",
            "la distribution  de  d2_temp_boui  apparait non gaussienne (Rejeter H0)\n",
            "statistics=29.294, p=0.000\n",
            "la distribution  de  d2_sulf_lib  apparait non gaussienne (Rejeter H0)\n",
            "statistics=34.011, p=0.000\n",
            "la distribution  de  d2_dst_boui  apparait non gaussienne (Rejeter H0)\n",
            "statistics=127.580, p=0.000\n",
            "la distribution  de  c4_dst_filt  apparait non gaussienne (Rejeter H0)\n",
            "statistics=279.175, p=0.000\n",
            "la distribution  de  c4_temp_boui  apparait non gaussienne (Rejeter H0)\n",
            "statistics=113.490, p=0.000\n",
            "la distribution  de  c4_dst_boui  apparait non gaussienne (Rejeter H0)\n",
            "statistics=132.255, p=0.000\n",
            "la distribution  de  c4_sulf_lib  apparait non gaussienne (Rejeter H0)\n",
            "statistics=762.039, p=0.000\n",
            "la distribution  de  dst_eau-gyps  apparait non gaussienne (Rejeter H0)\n",
            "statistics=39.589, p=0.000\n",
            "la distribution  de  temp_eau_gyps  apparait non gaussienne (Rejeter H0)\n",
            "statistics=7.989, p=0.018\n",
            "la distribution  de  dst_fort  apparait non gaussienne (Rejeter H0)\n",
            "statistics=67.041, p=0.000\n",
            "la distribution  de  c1_dst_filt  apparait non gaussienne (Rejeter H0)\n",
            "statistics=30.576, p=0.000\n",
            "la distribution  de  c1_temp_boui  apparait non gaussienne (Rejeter H0)\n",
            "statistics=98.161, p=0.000\n",
            "la distribution  de  c1_dst_boui  apparait non gaussienne (Rejeter H0)\n",
            "statistics=48.620, p=0.000\n",
            "la distribution  de  c1_sulf_lib  apparait non gaussienne (Rejeter H0)\n"
          ],
          "name": "stdout"
        }
      ]
    },
    {
      "cell_type": "markdown",
      "metadata": {
        "id": "NgM5eYxe9IMi"
      },
      "source": [
        "**Process F**"
      ]
    },
    {
      "cell_type": "code",
      "metadata": {
        "id": "yCOmSgGoBuw9",
        "colab": {
          "base_uri": "https://localhost:8080/"
        },
        "outputId": "6d9965ee-1aea-44d7-8713-82d6a69a5016"
      },
      "source": [
        "# Histograme pour visualiser la distribution (Normalité)\n",
        "df_F.iloc[:, 3:].hist(figsize=(16, 20), bins=10, xlabelsize=8, ylabelsize=8);"
      ],
      "execution_count": null,
      "outputs": [
        {
          "output_type": "display_data",
          "data": {
            "image/png": "[encoded data removed]",
            "text/plain": [
              "<Figure size 1152x1440 with 12 Axes>"
            ]
          },
          "metadata": {
            "tags": [],
            "needs_background": "light"
          }
        }
      ]
    },
    {
      "cell_type": "code",
      "metadata": {
        "id": "qxvFjq3ZB03_",
        "colab": {
          "base_uri": "https://localhost:8080/"
        },
        "outputId": "bf2a50fe-4a3b-495c-8459-cacca87c0ea5"
      },
      "source": [
        "test_normalite_1(df_F.iloc[:, 3:])"
      ],
      "execution_count": null,
      "outputs": [
        {
          "output_type": "stream",
          "text": [
            "tempA_fai d={4.060000e-01}, pval={0.000000e+00}\n",
            "tempA_for d={4.910000e-01}, pval={0.000000e+00}\n",
            "dst_moy d={4.890000e-01}, pval={0.000000e+00}\n",
            "dst_fai d={3.880000e-01}, pval={0.000000e+00}\n",
            "dst_filt d={5.380000e-01}, pval={0.000000e+00}\n",
            "temp_boui d={4.810000e-01}, pval={0.000000e+00}\n",
            "temp_filt d={5.400000e-01}, pval={0.000000e+00}\n",
            "dst_boui d={5.410000e-01}, pval={0.000000e+00}\n",
            "sulf_lib d={5.410000e-01}, pval={0.000000e+00}\n",
            "dst_fort d={4.890000e-01}, pval={0.000000e+00}\n"
          ],
          "name": "stdout"
        }
      ]
    },
    {
      "cell_type": "code",
      "metadata": {
        "id": "OAepdH5rB5Gc",
        "colab": {
          "base_uri": "https://localhost:8080/"
        },
        "outputId": "4c351c97-9c68-4f63-ae92-adb9585ddf2a"
      },
      "source": [
        "test_normalite_2(df_F)"
      ],
      "execution_count": null,
      "outputs": [
        {
          "output_type": "stream",
          "text": [
            "statistics=65.114, p=0.000\n",
            "la distribution  de  tempA_moy  apparait non gaussienne (Rejeter H0)\n",
            "statistics=470.426, p=0.000\n",
            "la distribution  de  tempA_fai  apparait non gaussienne (Rejeter H0)\n",
            "statistics=77.392, p=0.000\n",
            "la distribution  de  tempA_for  apparait non gaussienne (Rejeter H0)\n",
            "statistics=17.789, p=0.000\n",
            "la distribution  de  dst_moy  apparait non gaussienne (Rejeter H0)\n",
            "statistics=54.438, p=0.000\n",
            "la distribution  de  dst_fai  apparait non gaussienne (Rejeter H0)\n",
            "statistics=224.223, p=0.000\n",
            "la distribution  de  dst_filt  apparait non gaussienne (Rejeter H0)\n",
            "statistics=851.262, p=0.000\n",
            "la distribution  de  temp_boui  apparait non gaussienne (Rejeter H0)\n",
            "statistics=1507.778, p=0.000\n",
            "la distribution  de  temp_filt  apparait non gaussienne (Rejeter H0)\n",
            "statistics=203.826, p=0.000\n",
            "la distribution  de  dst_boui  apparait non gaussienne (Rejeter H0)\n",
            "statistics=65.837, p=0.000\n",
            "la distribution  de  sulf_lib  apparait non gaussienne (Rejeter H0)\n",
            "statistics=55.193, p=0.000\n",
            "la distribution  de  dst_fort  apparait non gaussienne (Rejeter H0)\n"
          ],
          "name": "stdout"
        }
      ]
    },
    {
      "cell_type": "markdown",
      "metadata": {
        "id": "SpgUnz69weU9"
      },
      "source": [
        "# Numeric Vs non Numeric Data"
      ]
    },
    {
      "cell_type": "code",
      "metadata": {
        "id": "Vv_JS3zswicC"
      },
      "source": [
        "# Process A\n",
        "df_A_num = df_A.select_dtypes(include=np.number)\n",
        "df_A_cat = df_A.select_dtypes(exclude=[np.number])\n",
        "# Process B\n",
        "df_B_num = df_B.select_dtypes(include=np.number)\n",
        "df_B_cat = df_B.select_dtypes(exclude=[np.number])\n",
        "# Process D\n",
        "df_D_num = df_D.select_dtypes(include=np.number)\n",
        "df_D_cat = df_D.select_dtypes(exclude=[np.number])\n",
        "# Process F\n",
        "df_F_num = df_F.select_dtypes(include=np.number)\n",
        "df_F_cat = df_F.select_dtypes(exclude=[np.number])"
      ],
      "execution_count": null,
      "outputs": []
    },
    {
      "cell_type": "markdown",
      "metadata": {
        "id": "g5FxVJnG4Vt8"
      },
      "source": [
        "# Resample Data"
      ]
    },
    {
      "cell_type": "code",
      "metadata": {
        "id": "9rNWshm74YEV"
      },
      "source": [
        "# Resample data by month\n",
        "resampled_A = df_A.resample('D', on='date').mean()\n",
        "resampled_B = df_B.resample('D', on='date').mean()\n",
        "resampled_D = df_D.resample('D', on='date').mean()\n",
        "resampled_F = df_F.resample('D', on='date').mean()"
      ],
      "execution_count": null,
      "outputs": []
    },
    {
      "cell_type": "code",
      "metadata": {
        "colab": {
          "base_uri": "https://localhost:8080/",
          "height": 357
        },
        "id": "PCLbHyCd5fKM",
        "outputId": "343128de-848b-413b-89a4-1894acf06837"
      },
      "source": [
        "resampled_A.head()"
      ],
      "execution_count": null,
      "outputs": [
        {
          "output_type": "execute_result",
          "data": {
            "text/html": [
              "<div>\n",
              "<style scoped>\n",
              "    .dataframe tbody tr th:only-of-type {\n",
              "        vertical-align: middle;\n",
              "    }\n",
              "\n",
              "    .dataframe tbody tr th {\n",
              "        vertical-align: top;\n",
              "    }\n",
              "\n",
              "    .dataframe thead th {\n",
              "        text-align: right;\n",
              "    }\n",
              "</style>\n",
              "<table border=\"1\" class=\"dataframe\">\n",
              "  <thead>\n",
              "    <tr style=\"text-align: right;\">\n",
              "      <th></th>\n",
              "      <th>shift</th>\n",
              "      <th>dst_moy</th>\n",
              "      <th>dst_fbl</th>\n",
              "      <th>d2_dst_filt</th>\n",
              "      <th>d2_temp_boui</th>\n",
              "      <th>d2_sulf_lib</th>\n",
              "      <th>d2_dst_boui</th>\n",
              "      <th>c4_dst_filt</th>\n",
              "      <th>c4_temp_boui</th>\n",
              "      <th>c4_dst_boui</th>\n",
              "      <th>c4_sulf_lib</th>\n",
              "      <th>dst_eau-gyps</th>\n",
              "      <th>temp_eau_gyps</th>\n",
              "      <th>dst_fort</th>\n",
              "      <th>c1_dst_filt</th>\n",
              "      <th>c1_temp_boui</th>\n",
              "      <th>c1_dst_boui</th>\n",
              "      <th>c1_sulf_lib</th>\n",
              "    </tr>\n",
              "    <tr>\n",
              "      <th>date</th>\n",
              "      <th></th>\n",
              "      <th></th>\n",
              "      <th></th>\n",
              "      <th></th>\n",
              "      <th></th>\n",
              "      <th></th>\n",
              "      <th></th>\n",
              "      <th></th>\n",
              "      <th></th>\n",
              "      <th></th>\n",
              "      <th></th>\n",
              "      <th></th>\n",
              "      <th></th>\n",
              "      <th></th>\n",
              "      <th></th>\n",
              "      <th></th>\n",
              "      <th></th>\n",
              "      <th></th>\n",
              "    </tr>\n",
              "  </thead>\n",
              "  <tbody>\n",
              "    <tr>\n",
              "      <th>2018-01-15</th>\n",
              "      <td>2.500000</td>\n",
              "      <td>NaN</td>\n",
              "      <td>NaN</td>\n",
              "      <td>1273.250000</td>\n",
              "      <td>91.875000</td>\n",
              "      <td>NaN</td>\n",
              "      <td>NaN</td>\n",
              "      <td>1277.125000</td>\n",
              "      <td>59.375000</td>\n",
              "      <td>1491.000000</td>\n",
              "      <td>NaN</td>\n",
              "      <td>NaN</td>\n",
              "      <td>NaN</td>\n",
              "      <td>NaN</td>\n",
              "      <td>1277.000000</td>\n",
              "      <td>69.875</td>\n",
              "      <td>1502.750000</td>\n",
              "      <td>NaN</td>\n",
              "    </tr>\n",
              "    <tr>\n",
              "      <th>2018-01-16</th>\n",
              "      <td>2.500000</td>\n",
              "      <td>NaN</td>\n",
              "      <td>NaN</td>\n",
              "      <td>1256.375000</td>\n",
              "      <td>89.875000</td>\n",
              "      <td>NaN</td>\n",
              "      <td>NaN</td>\n",
              "      <td>1270.500000</td>\n",
              "      <td>57.142857</td>\n",
              "      <td>1473.500000</td>\n",
              "      <td>NaN</td>\n",
              "      <td>NaN</td>\n",
              "      <td>NaN</td>\n",
              "      <td>NaN</td>\n",
              "      <td>1264.750000</td>\n",
              "      <td>67.375</td>\n",
              "      <td>1475.750000</td>\n",
              "      <td>NaN</td>\n",
              "    </tr>\n",
              "    <tr>\n",
              "      <th>2018-01-17</th>\n",
              "      <td>2.000000</td>\n",
              "      <td>NaN</td>\n",
              "      <td>NaN</td>\n",
              "      <td>1253.166667</td>\n",
              "      <td>87.545455</td>\n",
              "      <td>NaN</td>\n",
              "      <td>NaN</td>\n",
              "      <td>1265.333333</td>\n",
              "      <td>57.545455</td>\n",
              "      <td>1453.833333</td>\n",
              "      <td>NaN</td>\n",
              "      <td>NaN</td>\n",
              "      <td>NaN</td>\n",
              "      <td>NaN</td>\n",
              "      <td>1259.250000</td>\n",
              "      <td>66.000</td>\n",
              "      <td>1444.800000</td>\n",
              "      <td>NaN</td>\n",
              "    </tr>\n",
              "    <tr>\n",
              "      <th>2018-01-18</th>\n",
              "      <td>1.888889</td>\n",
              "      <td>NaN</td>\n",
              "      <td>NaN</td>\n",
              "      <td>1262.125000</td>\n",
              "      <td>88.375000</td>\n",
              "      <td>NaN</td>\n",
              "      <td>NaN</td>\n",
              "      <td>1256.000000</td>\n",
              "      <td>54.444444</td>\n",
              "      <td>1466.800000</td>\n",
              "      <td>NaN</td>\n",
              "      <td>NaN</td>\n",
              "      <td>NaN</td>\n",
              "      <td>NaN</td>\n",
              "      <td>1254.333333</td>\n",
              "      <td>66.375</td>\n",
              "      <td>1448.666667</td>\n",
              "      <td>NaN</td>\n",
              "    </tr>\n",
              "    <tr>\n",
              "      <th>2018-01-19</th>\n",
              "      <td>2.090909</td>\n",
              "      <td>NaN</td>\n",
              "      <td>NaN</td>\n",
              "      <td>1260.272727</td>\n",
              "      <td>89.909091</td>\n",
              "      <td>NaN</td>\n",
              "      <td>NaN</td>\n",
              "      <td>1283.125000</td>\n",
              "      <td>60.333333</td>\n",
              "      <td>1504.000000</td>\n",
              "      <td>NaN</td>\n",
              "      <td>NaN</td>\n",
              "      <td>NaN</td>\n",
              "      <td>NaN</td>\n",
              "      <td>1272.250000</td>\n",
              "      <td>69.625</td>\n",
              "      <td>1486.500000</td>\n",
              "      <td>NaN</td>\n",
              "    </tr>\n",
              "  </tbody>\n",
              "</table>\n",
              "</div>"
            ],
            "text/plain": [
              "               shift  dst_moy  dst_fbl  ...  c1_temp_boui  c1_dst_boui  c1_sulf_lib\n",
              "date                                    ...                                        \n",
              "2018-01-15  2.500000      NaN      NaN  ...        69.875  1502.750000          NaN\n",
              "2018-01-16  2.500000      NaN      NaN  ...        67.375  1475.750000          NaN\n",
              "2018-01-17  2.000000      NaN      NaN  ...        66.000  1444.800000          NaN\n",
              "2018-01-18  1.888889      NaN      NaN  ...        66.375  1448.666667          NaN\n",
              "2018-01-19  2.090909      NaN      NaN  ...        69.625  1486.500000          NaN\n",
              "\n",
              "[5 rows x 18 columns]"
            ]
          },
          "metadata": {
            "tags": []
          },
          "execution_count": 46
        }
      ]
    },
    {
      "cell_type": "markdown",
      "metadata": {
        "id": "6mD_YIyWwWU0"
      },
      "source": [
        "# Tester la correlation"
      ]
    },
    {
      "cell_type": "markdown",
      "metadata": {
        "id": "NNuUar4sXFfl"
      },
      "source": [
        "## Functions"
      ]
    },
    {
      "cell_type": "code",
      "metadata": {
        "id": "u9RAiu32Guun"
      },
      "source": [
        "# Eliminer les colonnes avec les NaNs\n",
        "def drop_na(df):\n",
        "  for col in df.columns:\n",
        "    if (df[col].isna().sum() != 0) :\n",
        "      df = df.drop(col, axis='columns')\n",
        "  return df"
      ],
      "execution_count": null,
      "outputs": []
    },
    {
      "cell_type": "code",
      "metadata": {
        "id": "JQrktroQCDPH"
      },
      "source": [
        "# Fonction pour calculer et la matrice des p_value et la matrice des corrélations\n",
        "def calculate_pvalues(df):\n",
        "    #df_test = df.dropna()._get_numeric_data()\n",
        "    dfcols = pd.DataFrame(columns=df.columns)\n",
        "    pvalues = dfcols.transpose().join(dfcols, how='outer')\n",
        "    rho_pearson =  dfcols.transpose().join(dfcols, how='outer')\n",
        "    for r in df.columns:\n",
        "        for c in df.columns:\n",
        "            rho_pearson[r][c] = round(pearsonr(df[r], df[c])[0],3)\n",
        "            pvalues[r][c] = round(pearsonr(df[r], df[c])[1], 3)\n",
        "    return  rho_pearson, pvalues"
      ],
      "execution_count": null,
      "outputs": []
    },
    {
      "cell_type": "code",
      "metadata": {
        "id": "fE7BVzbfHhCX"
      },
      "source": [
        "final_A = drop_na(resampled_A)\n",
        "final_B = drop_na(resampled_B)\n",
        "final_D = drop_na(resampled_D)\n",
        "final_F = drop_na(resampled_F)"
      ],
      "execution_count": null,
      "outputs": []
    },
    {
      "cell_type": "code",
      "metadata": {
        "id": "jVTEHQWtG0V0"
      },
      "source": [
        "# Trouver les resultats pour les differents Process\n",
        "results_A = calculate_pvalues(final_A)\n",
        "results_B = calculate_pvalues(final_B)\n",
        "results_D = calculate_pvalues(final_D)\n",
        "results_F = calculate_pvalues(final_F)\n",
        "\n",
        "# Noter Bien\n",
        "'''         !!! Pour utiliser pearsonr on doit éliminer les NaN sinon \n",
        "la méthode ne marche pas, si on essaie de les ignorer, des colonnes \n",
        "n'aurons pas la même longueur et la méthode ne marche pas\n",
        "            !!! La méthode .corr() les ignores\n",
        "\n",
        "De ce fait les coefficients de corrélations trouvés par les 2 méthodes\n",
        "sont différents\n",
        "'''\n",
        "# Matrice de Corrélation & Matrice des p_value\n",
        "rho_A, pvl_A= results_A[0], results_A[1]\n",
        "\n",
        "rho_B, pvl_B= results_B[0], results_B[1]\n",
        "\n",
        "rho_D, pvl_D= results_D[0], results_D[1]\n",
        "\n",
        "rho_F, pvl_F= results_F[0], results_F[1]"
      ],
      "execution_count": null,
      "outputs": []
    },
    {
      "cell_type": "markdown",
      "metadata": {
        "id": "ZeYVn2lhCBCr"
      },
      "source": [
        "## Corrélation"
      ]
    },
    {
      "cell_type": "markdown",
      "metadata": {
        "id": "gPEJlEP2xS45"
      },
      "source": [
        "### Scatter plots"
      ]
    },
    {
      "cell_type": "markdown",
      "metadata": {
        "id": "3Ofumt3cxnBC"
      },
      "source": [
        "#### Process A"
      ]
    },
    {
      "cell_type": "code",
      "metadata": {
        "colab": {
          "base_uri": "https://localhost:8080/"
        },
        "id": "6-BidriKwV2S",
        "outputId": "4576764d-3470-4adc-fc1c-d0669b0bdfa7"
      },
      "source": [
        "sns.pairplot(resampled_A.iloc[:, 1:])"
      ],
      "execution_count": null,
      "outputs": [
        {
          "output_type": "execute_result",
          "data": {
            "text/plain": [
              "<seaborn.axisgrid.PairGrid at 0x7f800d5500d0>"
            ]
          },
          "metadata": {
            "tags": []
          },
          "execution_count": 51
        }
      ]
    },
    {
      "cell_type": "code",
      "metadata": {
        "id": "4YXnkvYKx_hS"
      },
      "source": [
        "plt.plot(resampled_A['c1_dst_boui'], resampled_A['c4_dst_filt'], 'o', alpha=0.5 )\n",
        "plt.show()"
      ],
      "execution_count": null,
      "outputs": []
    },
    {
      "cell_type": "markdown",
      "metadata": {
        "id": "WV-uEaCux3nF"
      },
      "source": [
        "#### Process B"
      ]
    },
    {
      "cell_type": "code",
      "metadata": {
        "id": "9KbEeHwrx7sk"
      },
      "source": [
        "#sns.pairplot(resampled_B.iloc[:, 1:])"
      ],
      "execution_count": null,
      "outputs": []
    },
    {
      "cell_type": "code",
      "metadata": {
        "id": "55bAtMyWyb49"
      },
      "source": [
        "#plt.plot(resampled_B['c1_dst_boui'], resampled_B['c4_dst_filt'], 'o', alpha=0.5 )\n",
        "#plt.show()"
      ],
      "execution_count": null,
      "outputs": []
    },
    {
      "cell_type": "markdown",
      "metadata": {
        "id": "kpgi5aWhyvmb"
      },
      "source": [
        "#### Process D"
      ]
    },
    {
      "cell_type": "code",
      "metadata": {
        "id": "iRBUbzKNyx0l"
      },
      "source": [
        "#sns.pairplot(resampled_D.iloc[:, 1:])"
      ],
      "execution_count": null,
      "outputs": []
    },
    {
      "cell_type": "code",
      "metadata": {
        "id": "LKgua3sFyzbG"
      },
      "source": [
        "#plt.plot(resampled_D['dst_fort'], resampled_D['c4_dst_filt'], 'o', alpha=0.5 )\n",
        "#plt.show()"
      ],
      "execution_count": null,
      "outputs": []
    },
    {
      "cell_type": "markdown",
      "metadata": {
        "id": "QlArpOY5QCPf"
      },
      "source": [
        "#### Process F"
      ]
    },
    {
      "cell_type": "code",
      "metadata": {
        "id": "O1vyL9nyQE0h"
      },
      "source": [
        "#sns.pairplot(resampled_F.iloc[:, 1:])"
      ],
      "execution_count": null,
      "outputs": []
    },
    {
      "cell_type": "code",
      "metadata": {
        "id": "22hZk-XlQH2J"
      },
      "source": [
        "#plt.plot(resampled_F['dst_fort'], resampled_F['c4_dst_filt'], 'o', alpha=0.5 )\n",
        "#plt.show()"
      ],
      "execution_count": null,
      "outputs": []
    },
    {
      "cell_type": "markdown",
      "metadata": {
        "id": "wYOJYmORN55W"
      },
      "source": [
        "### Tests"
      ]
    },
    {
      "cell_type": "markdown",
      "metadata": {
        "id": "hulSqKtgGpQM"
      },
      "source": [
        "#### Process A"
      ]
    },
    {
      "cell_type": "code",
      "metadata": {
        "id": "Gpj4L4QiJX2Q"
      },
      "source": [
        "# Juste les colonnes dont pvalue<0.05 et corrélation>0.5\n",
        "var1_A = []\n",
        "var2_A = []\n",
        "corr_A = []\n",
        "pval_A = []\n",
        "\n",
        "for r in rho_A.columns:\n",
        "  for c in rho_A.columns:\n",
        "    if pvl_A[r][c]<0.05 and rho_A.loc[r,c]>0.6 and rho_A.loc[r,c]!= 1:\n",
        "       var1_A.append(r)\n",
        "       var2_A.append(c)\n",
        "       corr_A.append(round(rho_A.loc[r,c],3))\n",
        "       pval_A.append(round(pvl_A[r][c],3))"
      ],
      "execution_count": null,
      "outputs": []
    },
    {
      "cell_type": "code",
      "metadata": {
        "id": "u-_3YZPGJbvr"
      },
      "source": [
        "# Creér une table avec les corrélations et les p_value\n",
        "ar = np.array([var1_A, var2_A, corr_A, pval_A])\n",
        "corr_pval_A = pd.DataFrame({'var1': var1_A, 'var2': var2_A, \n",
        "                            'correlation': corr_A, 'p_value': pval_A},\n",
        "                      index = [i for i in range (0,len(var1_A))])\n",
        "corr_pval_A"
      ],
      "execution_count": null,
      "outputs": []
    },
    {
      "cell_type": "code",
      "metadata": {
        "id": "RAVA70g_JexN"
      },
      "source": [
        "# Intervalle de Confiance\n",
        "n = len(final_A) \n",
        "se = 1/np.sqrt(n-3)\n",
        "alpha = 0.05\n",
        "\n",
        "corr_pval_A['r_z'] = np.arctanh(corr_pval_A['correlation'])\n",
        "z = stats.norm.ppf(1-alpha/2)\n",
        "# Intervalle de confiance de Z\n",
        "corr_pval_A['inf_z'] = corr_pval_A['r_z'] - z*se\n",
        "corr_pval_A['sup_z'] = corr_pval_A['r_z'] + z*se\n",
        "# Intervalle de confiance du r (coeff de corrélation)\n",
        "corr_pval_A['b_inf'] = np.tanh(corr_pval_A['inf_z'])\n",
        "corr_pval_A['b_sup'] = np.tanh(corr_pval_A['sup_z'])\n",
        "\n",
        "corr_pval_A.drop(['r_z', 'inf_z','sup_z'], axis=1)"
      ],
      "execution_count": null,
      "outputs": []
    },
    {
      "cell_type": "code",
      "metadata": {
        "id": "blAQ4OixJhY_"
      },
      "source": [
        "corr_A = df_A_num.corr() \n",
        "plt.figure(figsize=(12, 10))\n",
        "\n",
        "sns.heatmap(corr_A[(corr_A >= 0.7) | (corr_A <= -0.7)], \n",
        "            cmap='viridis', vmax=1.0, vmin=-1.0, linewidths=0.1,\n",
        "            annot=True, annot_kws={\"size\": 8}, square=True);"
      ],
      "execution_count": null,
      "outputs": []
    },
    {
      "cell_type": "markdown",
      "metadata": {
        "id": "alcbuYxSy3pi"
      },
      "source": [
        "#### Process B"
      ]
    },
    {
      "cell_type": "code",
      "metadata": {
        "id": "IS50QZrUTZUx"
      },
      "source": [
        "# Juste les colonnes dont pvalue<0.05 et corrélation>0.5\n",
        "var1_B = []\n",
        "var2_B = []\n",
        "corr_B = []\n",
        "pval_B = []\n",
        "\n",
        "for r in rho_B.columns:\n",
        "  for c in rho_B.columns:\n",
        "    if pvl_B[r][c]<0.05 and rho_B.loc[r,c]>0.6 and rho_B.loc[r,c]!= 1:\n",
        "       var1_B.append(r)\n",
        "       var2_B.append(c)\n",
        "       corr_B.append(round(rho_B.loc[r,c],3))\n",
        "       pval_B.append(round(pvl_B[r][c],3))"
      ],
      "execution_count": null,
      "outputs": []
    },
    {
      "cell_type": "code",
      "metadata": {
        "id": "Y_0RtdVqUwOh"
      },
      "source": [
        "# Creér une table avec les corrélations et les p_value\n",
        "ar = np.array([var1_B, var2_B, corr_B, pval_B])\n",
        "corr_pval_B = pd.DataFrame({'var1': var1_B, 'var2': var2_B, \n",
        "                            'correlation': corr_B, 'p_value': pval_B},\n",
        "                      index = [i for i in range (0,len(var1_B))])\n",
        "corr_pval_B"
      ],
      "execution_count": null,
      "outputs": []
    },
    {
      "cell_type": "code",
      "metadata": {
        "id": "r34FdXwBVk6y"
      },
      "source": [
        "# Intervalle de Confiance\n",
        "n = len(final_B) \n",
        "se = 1/np.sqrt(n-3)\n",
        "alpha = 0.05\n",
        "\n",
        "corr_pval_B['r_z'] = np.arctanh(corr_pval_B['correlation'])\n",
        "z = stats.norm.ppf(1-alpha/2)\n",
        "# Intervalle de confiance de Z\n",
        "corr_pval_B['inf_z'] = corr_pval_B['r_z'] - z*se\n",
        "corr_pval_B['sup_z'] = corr_pval_B['r_z'] + z*se\n",
        "# Intervalle de confiance du r (coeff de corrélation)\n",
        "corr_pval_B['b_inf'] = np.tanh(corr_pval_B['inf_z'])\n",
        "corr_pval_B['b_sup'] = np.tanh(corr_pval_B['sup_z'])\n",
        "\n",
        "corr_pval_B.drop(['r_z', 'inf_z','sup_z'], axis=1)"
      ],
      "execution_count": null,
      "outputs": []
    },
    {
      "cell_type": "code",
      "metadata": {
        "id": "TvKrMgCnWife"
      },
      "source": [
        "corr_B = df_B_num.corr() \n",
        "plt.figure(figsize=(12, 10))\n",
        "\n",
        "sns.heatmap(corr_B[(corr_B >= 0.7) | (corr_B <= -0.7)], \n",
        "            cmap='viridis', vmax=1.0, vmin=-1.0, linewidths=0.1,\n",
        "            annot=True, annot_kws={\"size\": 8}, square=True);"
      ],
      "execution_count": null,
      "outputs": []
    },
    {
      "cell_type": "markdown",
      "metadata": {
        "id": "OeZd0VO-TQ2u"
      },
      "source": [
        "#### Process D"
      ]
    },
    {
      "cell_type": "code",
      "metadata": {
        "id": "e_snIubCTaH-"
      },
      "source": [
        "# Juste les colonnes dont pvalue<0.05 et corrélation>0.5\n",
        "var1_D = []\n",
        "var2_D = []\n",
        "corr_D = []\n",
        "pval_D = []\n",
        "\n",
        "for r in rho_D.columns:\n",
        "  for c in rho_D.columns:\n",
        "    if pvl_D[r][c]<0.05 and rho_D.loc[r,c]>0.6 and rho_D.loc[r,c]!= 1:\n",
        "       var1_D.append(r)\n",
        "       var2_D.append(c)\n",
        "       corr_D.append(round(rho_D.loc[r,c],3))\n",
        "       pval_D.append(round(pvl_D[r][c],3))"
      ],
      "execution_count": null,
      "outputs": []
    },
    {
      "cell_type": "code",
      "metadata": {
        "id": "V6EZY3ilUxX5"
      },
      "source": [
        "# Creér une table avec les corrélations et les p_value\n",
        "ar = np.array([var1_D, var2_D, corr_D, pval_D])\n",
        "corr_pval_D = pd.DataFrame({'var1': var1_D, 'var2': var2_D, \n",
        "                            'correlation': corr_D, 'p_value': pval_D},\n",
        "                      index = [i for i in range (0,len(var1_D))])\n",
        "corr_pval_D"
      ],
      "execution_count": null,
      "outputs": []
    },
    {
      "cell_type": "code",
      "metadata": {
        "id": "_7jhTMAKVl7F"
      },
      "source": [
        "# Intervalle de Confiance\n",
        "n = len(final_D) \n",
        "se = 1/np.sqrt(n-3)\n",
        "alpha = 0.05\n",
        "\n",
        "corr_pval_D['r_z'] = np.arctanh(corr_pval_D['correlation'])\n",
        "z = stats.norm.ppf(1-alpha/2)\n",
        "# Intervalle de confiance de Z\n",
        "corr_pval_D['inf_z'] = corr_pval_D['r_z'] - z*se\n",
        "corr_pval_D['sup_z'] = corr_pval_D['r_z'] + z*se\n",
        "# Intervalle de confiance du r (coeff de corrélation)\n",
        "corr_pval_D['b_inf'] = np.tanh(corr_pval_D['inf_z'])\n",
        "corr_pval_D['b_sup'] = np.tanh(corr_pval_D['sup_z'])\n",
        "\n",
        "corr_pval_D.drop(['r_z', 'inf_z','sup_z'], axis=1)"
      ],
      "execution_count": null,
      "outputs": []
    },
    {
      "cell_type": "code",
      "metadata": {
        "id": "XyqxP8IXWoeV"
      },
      "source": [
        "corr_D = df_D_num.corr() \n",
        "plt.figure(figsize=(12, 10))\n",
        "\n",
        "sns.heatmap(corr_D[(corr_D >= 0.7) | (corr_D <= -0.7)], \n",
        "            cmap='viridis', vmax=1.0, vmin=-1.0, linewidths=0.1,\n",
        "            annot=True, annot_kws={\"size\": 8}, square=True);"
      ],
      "execution_count": null,
      "outputs": []
    },
    {
      "cell_type": "markdown",
      "metadata": {
        "id": "eCTYXLzHTTa0"
      },
      "source": [
        "#### Process F"
      ]
    },
    {
      "cell_type": "code",
      "metadata": {
        "id": "PQ4iZHKDTa5p"
      },
      "source": [
        "# Juste les colonnes dont pvalue<0.05 et corrélation>0.5\n",
        "var1_F = []\n",
        "var2_F = []\n",
        "corr_F = []\n",
        "pval_F = []\n",
        "\n",
        "for r in rho_F.columns:\n",
        "  for c in rho_F.columns:\n",
        "    if pvl_F[r][c]<0.05 and rho_F.loc[r,c]>0.6 and rho_F.loc[r,c]!= 1:\n",
        "       var1_F.append(r)\n",
        "       var2_F.append(c)\n",
        "       corr_F.append(round(rho_F.loc[r,c],3))\n",
        "       pval_F.append(round(pvl_F[r][c],3))"
      ],
      "execution_count": null,
      "outputs": []
    },
    {
      "cell_type": "code",
      "metadata": {
        "id": "2saFbcKhUyKS"
      },
      "source": [
        "# Creér une table avec les corrélations et les p_value\n",
        "ar = np.array([var1_F, var2_F, corr_F, pval_F])\n",
        "corr_pval_F = pd.DataFrame({'var1': var1_F, 'var2': var2_F, \n",
        "                            'correlation': corr_F, 'p_value': pval_F},\n",
        "                      index = [i for i in range (0,len(var1_F))])\n",
        "corr_pval_F"
      ],
      "execution_count": null,
      "outputs": []
    },
    {
      "cell_type": "code",
      "metadata": {
        "id": "XkWviiwJVm1T"
      },
      "source": [
        "# Intervalle de Confiance\n",
        "n = len(final_F) \n",
        "se = 1/np.sqrt(n-3)\n",
        "alpha = 0.05\n",
        "\n",
        "corr_pval_F['r_z'] = np.arctanh(corr_pval_F['correlation'])\n",
        "z = stats.norm.ppf(1-alpha/2)\n",
        "# Intervalle de confiance de Z\n",
        "corr_pval_F['inf_z'] = corr_pval_F['r_z'] - z*se\n",
        "corr_pval_F['sup_z'] = corr_pval_F['r_z'] + z*se\n",
        "# Intervalle de confiance du r (coeff de corrélation)\n",
        "corr_pval_F['b_inf'] = np.tanh(corr_pval_F['inf_z'])\n",
        "corr_pval_F['b_sup'] = np.tanh(corr_pval_F['sup_z'])\n",
        "\n",
        "corr_pval_F.drop(['r_z', 'inf_z','sup_z'], axis=1)"
      ],
      "execution_count": null,
      "outputs": []
    },
    {
      "cell_type": "code",
      "metadata": {
        "id": "lq8liqfyWtBj"
      },
      "source": [
        "corr_F = df_F_num.corr() \n",
        "plt.figure(figsize=(12, 10))\n",
        "\n",
        "sns.heatmap(corr_F[(corr_F >= 0.7) | (corr_F <= -0.7)], \n",
        "            cmap='viridis', vmax=1.0, vmin=-1.0, linewidths=0.1,\n",
        "            annot=True, annot_kws={\"size\": 8}, square=True);"
      ],
      "execution_count": null,
      "outputs": []
    },
    {
      "cell_type": "markdown",
      "metadata": {
        "id": "LYENYnQgpyvk"
      },
      "source": [
        "# Merge Data"
      ]
    },
    {
      "cell_type": "code",
      "metadata": {
        "id": "9S6I1Z9ZqlP8"
      },
      "source": [
        "# Read the ACP30 dataset & change columns' names\n",
        "acp30 = pd.read_excel('/content/drive/MyDrive/OCP/data_ACP30.xlsx')\n",
        "acp30.drop(columns=['DATE_MARCHE'], inplace=True)\n",
        "acp30.drop(columns=['Date_enreg'], inplace=True)\n",
        "\n",
        "cols = ['date','process','p2o5_se','p2o5_syn','p2o5_ina','ec',\n",
        "        'pm_60c','cao','p2o5_acp30','densite_acp30','h2so4al_acp30', \n",
        "        'ts_acp30', 'as/p2o5']\n",
        "acp30.columns = cols;\n",
        "\n",
        "acp30.head()"
      ],
      "execution_count": null,
      "outputs": []
    },
    {
      "cell_type": "code",
      "metadata": {
        "id": "TczwiW6--2LG"
      },
      "source": [
        "# Split Data By process & Set index to date column\n",
        "# Process A\n",
        "acp30_A = acp30[acp30['process']=='A']\n",
        "acp30_A = acp30_A.drop('process', axis='columns')\n",
        "acp30_A.set_index('date', inplace=True)\n",
        "# Process B\n",
        "acp30_B = acp30[acp30['process']=='B']\n",
        "acp30_B = acp30_B.drop('process', axis='columns')\n",
        "acp30_B.set_index('date', inplace=True)\n",
        "# Process D\n",
        "acp30_D = acp30[acp30['process']=='D']\n",
        "acp30_D = acp30_D.drop('process', axis='columns')\n",
        "acp30_D.set_index('date', inplace=True)\n",
        "# Process F\n",
        "acp30_F = acp30[acp30['process']=='F']\n",
        "acp30_F = acp30_F.drop('process', axis='columns')\n",
        "acp30_F.set_index('date', inplace=True)"
      ],
      "execution_count": null,
      "outputs": []
    },
    {
      "cell_type": "code",
      "metadata": {
        "id": "lzKFz1W-Bvyd"
      },
      "source": [
        "# Merge Data of Process A with acp30_A by index\n",
        "merged_A = resampled_A.merge(acp30_A, left_index=True, right_index=True)\n",
        "merged_A.head()"
      ],
      "execution_count": null,
      "outputs": []
    },
    {
      "cell_type": "code",
      "metadata": {
        "id": "lKqbHN_hLlKP"
      },
      "source": [
        "# Merge Data of Process B with acp30_A by index\n",
        "merged_B = resampled_B.merge(acp30_B, left_index=True, right_index=True)\n",
        "merged_B.head()"
      ],
      "execution_count": null,
      "outputs": []
    },
    {
      "cell_type": "code",
      "metadata": {
        "id": "NHzKbVzEL1Ox"
      },
      "source": [
        "# Merge Data of Process D with acp30_A by index\n",
        "merged_D = resampled_D.merge(acp30_D, left_index=True, right_index=True)\n",
        "merged_D.head()"
      ],
      "execution_count": null,
      "outputs": []
    },
    {
      "cell_type": "code",
      "metadata": {
        "id": "W29N3LcrMBjL"
      },
      "source": [
        "# Merge Data of Process F with acp30_A by index\n",
        "merged_F = resampled_F.merge(acp30_F, left_index=True, right_index=True)\n",
        "merged_F.head()"
      ],
      "execution_count": null,
      "outputs": []
    },
    {
      "cell_type": "markdown",
      "metadata": {
        "id": "W17N0C_dArCL"
      },
      "source": [
        "# Correlation"
      ]
    },
    {
      "cell_type": "code",
      "metadata": {
        "id": "9AQ-N4c3Atbs"
      },
      "source": [
        "import scipy.stats\n",
        "scipy.stats.pearsonr()"
      ],
      "execution_count": null,
      "outputs": []
    }
  ]
}